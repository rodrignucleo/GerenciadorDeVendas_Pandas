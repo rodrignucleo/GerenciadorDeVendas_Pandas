{
  "nbformat": 4,
  "nbformat_minor": 0,
  "metadata": {
    "colab": {
      "name": "GerenciadorDeVendas_Pandas.ipynb",
      "provenance": [],
      "collapsed_sections": [],
      "mount_file_id": "11z7pCms5eFbyZmfkUT9i8sDks_ifCqtJ",
      "authorship_tag": "ABX9TyMKnofWwFeWI4BIrBmvjpgg",
      "include_colab_link": true
    },
    "kernelspec": {
      "name": "python3",
      "display_name": "Python 3"
    }
  },
  "cells": [
    {
      "cell_type": "markdown",
      "metadata": {
        "id": "view-in-github",
        "colab_type": "text"
      },
      "source": [
        "<a href=\"https://colab.research.google.com/github/rodrignucleo/GerenciadorDeVendas_Pandas/blob/main/GerenciadorDeVendas_Pandas.ipynb\" target=\"_parent\"><img src=\"https://colab.research.google.com/assets/colab-badge.svg\" alt=\"Open In Colab\"/></a>"
      ]
    },
    {
      "cell_type": "markdown",
      "metadata": {
        "id": "cmaT_4mJqecN"
      },
      "source": [
        "PASSO 1 = Mostrar Tabela de Vendas\n"
      ]
    },
    {
      "cell_type": "code",
      "metadata": {
        "id": "KdD5I-8vnlin"
      },
      "source": [
        "import pandas as pd\n",
        "\n",
        "tabela_vendas =  pd.read_excel(\"/content/drive/MyDrive/Colab Notebooks/Vendas1.xlsx\")\n",
        "\n",
        "display(tabela_vendas)"
      ],
      "execution_count": null,
      "outputs": []
    },
    {
      "cell_type": "markdown",
      "metadata": {
        "id": "ptVet-U-qlea"
      },
      "source": [
        "PASSO 2 = Mostrar o faturamento de cada loja\n"
      ]
    },
    {
      "cell_type": "code",
      "metadata": {
        "colab": {
          "base_uri": "https://localhost:8080/",
          "height": 206
        },
        "id": "ev_PJ5GrqrpF",
        "outputId": "7cc8a46a-925a-4832-b25b-23da9ea11390"
      },
      "source": [
        "tabela_faturamento = tabela_vendas[[\"ID Loja\", \"Valor Final\"]].groupby(\"ID Loja\").sum()\n",
        "display(tabela_faturamento)"
      ],
      "execution_count": null,
      "outputs": [
        {
          "output_type": "display_data",
          "data": {
            "text/html": [
              "<div>\n",
              "<style scoped>\n",
              "    .dataframe tbody tr th:only-of-type {\n",
              "        vertical-align: middle;\n",
              "    }\n",
              "\n",
              "    .dataframe tbody tr th {\n",
              "        vertical-align: top;\n",
              "    }\n",
              "\n",
              "    .dataframe thead th {\n",
              "        text-align: right;\n",
              "    }\n",
              "</style>\n",
              "<table border=\"1\" class=\"dataframe\">\n",
              "  <thead>\n",
              "    <tr style=\"text-align: right;\">\n",
              "      <th></th>\n",
              "      <th>Valor Final</th>\n",
              "    </tr>\n",
              "    <tr>\n",
              "      <th>ID Loja</th>\n",
              "      <th></th>\n",
              "    </tr>\n",
              "  </thead>\n",
              "  <tbody>\n",
              "    <tr>\n",
              "      <th>Cidade São Paulo</th>\n",
              "      <td>2985</td>\n",
              "    </tr>\n",
              "    <tr>\n",
              "      <th>Pátio Paulista</th>\n",
              "      <td>2789</td>\n",
              "    </tr>\n",
              "    <tr>\n",
              "      <th>Shopping Itaquera</th>\n",
              "      <td>2038</td>\n",
              "    </tr>\n",
              "    <tr>\n",
              "      <th>Shopping Tatuapé</th>\n",
              "      <td>1635</td>\n",
              "    </tr>\n",
              "  </tbody>\n",
              "</table>\n",
              "</div>"
            ],
            "text/plain": [
              "                   Valor Final\n",
              "ID Loja                       \n",
              "Cidade São Paulo          2985\n",
              "Pátio Paulista            2789\n",
              "Shopping Itaquera         2038\n",
              "Shopping Tatuapé          1635"
            ]
          },
          "metadata": {
            "tags": []
          }
        }
      ]
    },
    {
      "cell_type": "markdown",
      "metadata": {
        "id": "WipJfqYArRuv"
      },
      "source": [
        "PASSO 3 = Mostrar a quantidade total de produtos vendidos\n"
      ]
    },
    {
      "cell_type": "code",
      "metadata": {
        "colab": {
          "base_uri": "https://localhost:8080/",
          "height": 206
        },
        "id": "Vq3pimS5rRDf",
        "outputId": "40f1153f-3d18-4dc3-87e9-de2909ca8535"
      },
      "source": [
        "tabela_produtos = tabela_vendas[[\"ID Loja\", \"Quantidade\"]].groupby(\"ID Loja\").sum()\n",
        "display(tabela_produtos)"
      ],
      "execution_count": null,
      "outputs": [
        {
          "output_type": "display_data",
          "data": {
            "text/html": [
              "<div>\n",
              "<style scoped>\n",
              "    .dataframe tbody tr th:only-of-type {\n",
              "        vertical-align: middle;\n",
              "    }\n",
              "\n",
              "    .dataframe tbody tr th {\n",
              "        vertical-align: top;\n",
              "    }\n",
              "\n",
              "    .dataframe thead th {\n",
              "        text-align: right;\n",
              "    }\n",
              "</style>\n",
              "<table border=\"1\" class=\"dataframe\">\n",
              "  <thead>\n",
              "    <tr style=\"text-align: right;\">\n",
              "      <th></th>\n",
              "      <th>Quantidade</th>\n",
              "    </tr>\n",
              "    <tr>\n",
              "      <th>ID Loja</th>\n",
              "      <th></th>\n",
              "    </tr>\n",
              "  </thead>\n",
              "  <tbody>\n",
              "    <tr>\n",
              "      <th>Cidade São Paulo</th>\n",
              "      <td>393</td>\n",
              "    </tr>\n",
              "    <tr>\n",
              "      <th>Pátio Paulista</th>\n",
              "      <td>357</td>\n",
              "    </tr>\n",
              "    <tr>\n",
              "      <th>Shopping Itaquera</th>\n",
              "      <td>232</td>\n",
              "    </tr>\n",
              "    <tr>\n",
              "      <th>Shopping Tatuapé</th>\n",
              "      <td>243</td>\n",
              "    </tr>\n",
              "  </tbody>\n",
              "</table>\n",
              "</div>"
            ],
            "text/plain": [
              "                   Quantidade\n",
              "ID Loja                      \n",
              "Cidade São Paulo          393\n",
              "Pátio Paulista            357\n",
              "Shopping Itaquera         232\n",
              "Shopping Tatuapé          243"
            ]
          },
          "metadata": {
            "tags": []
          }
        }
      ]
    },
    {
      "cell_type": "markdown",
      "metadata": {
        "id": "bpDW4q9-sChj"
      },
      "source": [
        "PASSO 4 = Calcular TICKET MÉDIO\n"
      ]
    },
    {
      "cell_type": "code",
      "metadata": {
        "colab": {
          "base_uri": "https://localhost:8080/",
          "height": 206
        },
        "id": "-yOPyePMsHo6",
        "outputId": "ab5169d5-cb6e-47da-8f32-957fff4f46e4"
      },
      "source": [
        "ticket_medio = (tabela_faturamento[\"Valor Final\"] / tabela_produtos[\"Quantidade\"]).to_frame()\n",
        "ticket_medio = ticket_medio.rename(columns= {0 : \"Ticket Medio\"})\n",
        "display(ticket_medio)"
      ],
      "execution_count": null,
      "outputs": [
        {
          "output_type": "display_data",
          "data": {
            "text/html": [
              "<div>\n",
              "<style scoped>\n",
              "    .dataframe tbody tr th:only-of-type {\n",
              "        vertical-align: middle;\n",
              "    }\n",
              "\n",
              "    .dataframe tbody tr th {\n",
              "        vertical-align: top;\n",
              "    }\n",
              "\n",
              "    .dataframe thead th {\n",
              "        text-align: right;\n",
              "    }\n",
              "</style>\n",
              "<table border=\"1\" class=\"dataframe\">\n",
              "  <thead>\n",
              "    <tr style=\"text-align: right;\">\n",
              "      <th></th>\n",
              "      <th>Ticket Medio</th>\n",
              "    </tr>\n",
              "    <tr>\n",
              "      <th>ID Loja</th>\n",
              "      <th></th>\n",
              "    </tr>\n",
              "  </thead>\n",
              "  <tbody>\n",
              "    <tr>\n",
              "      <th>Cidade São Paulo</th>\n",
              "      <td>7.595420</td>\n",
              "    </tr>\n",
              "    <tr>\n",
              "      <th>Pátio Paulista</th>\n",
              "      <td>7.812325</td>\n",
              "    </tr>\n",
              "    <tr>\n",
              "      <th>Shopping Itaquera</th>\n",
              "      <td>8.784483</td>\n",
              "    </tr>\n",
              "    <tr>\n",
              "      <th>Shopping Tatuapé</th>\n",
              "      <td>6.728395</td>\n",
              "    </tr>\n",
              "  </tbody>\n",
              "</table>\n",
              "</div>"
            ],
            "text/plain": [
              "                   Ticket Medio\n",
              "ID Loja                        \n",
              "Cidade São Paulo       7.595420\n",
              "Pátio Paulista         7.812325\n",
              "Shopping Itaquera      8.784483\n",
              "Shopping Tatuapé       6.728395"
            ]
          },
          "metadata": {
            "tags": []
          }
        }
      ]
    },
    {
      "cell_type": "markdown",
      "metadata": {
        "id": "Q0QZu2rZs7kq"
      },
      "source": [
        "FUNÇÃO ENVIAR EMAIL"
      ]
    },
    {
      "cell_type": "code",
      "metadata": {
        "id": "RoRkFy5_s-Yb"
      },
      "source": [
        "def enviar_email(nome_da_loja, tabela):\n",
        "  import smtplib\n",
        "  import email.message\n",
        "\n",
        "  server = smtplib.SMTP('smtp.gmail.com:587')  \n",
        "  corpo_email = f\"\"\"\n",
        "  <p>Prezados,</p>\n",
        "  <p>Segue relatório de vendas </p>\n",
        "  {tabela.to_html()}\n",
        "  <p>Att, Rodrigo</p>\n",
        "  \"\"\" #editar\n",
        "    \n",
        "  msg = email.message.Message()\n",
        "  msg['Subject'] = f\"Relatório de vendas - {nome_da_loja}\" #editar\n",
        "    \n",
        "  # Fazer antes (apenas na 1ª vez): Ativar Aplicativos não Seguros.\n",
        "  # Gerenciar Conta Google -> Segurança -> Aplicativos não Seguros -> Habilitar\n",
        "  # Caso mesmo assim dê o erro: smtplib.SMTPAuthenticationError: (534,\n",
        "  # Você faz o login no seu e-mail e depois entra em: https://accounts.google.com/DisplayUnlockCaptcha\n",
        "  \n",
        "  msg['From'] = ''  #editar\n",
        "  msg['To'] = ''  #editar\n",
        "  password = \"*\"  #editar\n",
        "  msg.add_header('Content-Type', 'text/html')\n",
        "  msg.set_payload(corpo_email )\n",
        "    \n",
        "  s = smtplib.SMTP('smtp.gmail.com: 587')\n",
        "  s.starttls()\n",
        "  # Login Credentials for sending the mail\n",
        "  s.login(msg['From'], password)\n",
        "  s.sendmail(msg['From'], [msg['To']], msg.as_string().encode('utf-8'))\n",
        "  print('Email enviado')"
      ],
      "execution_count": null,
      "outputs": []
    },
    {
      "cell_type": "markdown",
      "metadata": {
        "id": "_jEAD0S9s-vG"
      },
      "source": [
        "PASSO 5 = Enviar o Email"
      ]
    },
    {
      "cell_type": "code",
      "metadata": {
        "colab": {
          "base_uri": "https://localhost:8080/"
        },
        "id": "vMK1WP8WvxSi",
        "outputId": "e4dbaabe-c76a-4507-b2df-d88fa1f54ecb"
      },
      "source": [
        "tabela_completa = tabela_faturamento.join(tabela_produtos).join(ticket_medio)\n",
        "enviar_email(\"Diretoria\", tabela_completa)"
      ],
      "execution_count": null,
      "outputs": [
        {
          "output_type": "stream",
          "text": [
            "Email enviado\n"
          ],
          "name": "stdout"
        }
      ]
    },
    {
      "cell_type": "markdown",
      "metadata": {
        "id": "HJpbm0GJyztA"
      },
      "source": [
        "PASSO 6 = Enviar Email pra cada loja"
      ]
    },
    {
      "cell_type": "code",
      "metadata": {
        "colab": {
          "base_uri": "https://localhost:8080/"
        },
        "id": "OM_SKlCYy4O1",
        "outputId": "552257df-d7ba-460e-aa81-0d06ab967a93"
      },
      "source": [
        "lista_lojas = tabela_vendas[\"ID Loja\"].unique()\n",
        "\n",
        "for loja in lista_lojas:\n",
        "  tabela_loja = tabela_vendas.loc[tabela_vendas[\"ID Loja\"] == loja, [\"ID Loja\", \"Quantidade\", \"Valor Final\"]]\n",
        "  tabela_loja = tabela_loja.groupby(\"ID Loja\").sum()\n",
        "  tabela_loja[\"Ticket Medio\"] = tabela_loja[\"Valor Final\"] / tabela_loja[\"Quantidade\"]\n",
        "  enviar_email(loja, tabela_loja)"
      ],
      "execution_count": null,
      "outputs": [
        {
          "output_type": "stream",
          "text": [
            "Email enviado\n",
            "Email enviado\n",
            "Email enviado\n",
            "Email enviado\n"
          ],
          "name": "stdout"
        }
      ]
    }
  ]
}